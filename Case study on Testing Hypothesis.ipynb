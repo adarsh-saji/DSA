{
 "cells": [
  {
   "cell_type": "code",
   "execution_count": 1,
   "id": "81487e0d",
   "metadata": {},
   "outputs": [],
   "source": [
    "import pandas as pd\n",
    "import numpy as np\n",
    "from scipy.stats import ttest_rel as ttest\n",
    "from scipy.stats import chi2_contingency as chi_2"
   ]
  },
  {
   "cell_type": "code",
   "execution_count": 2,
   "id": "5b346e70",
   "metadata": {},
   "outputs": [],
   "source": [
    "data = pd.read_csv(r\"C:\\Users\\adars\\Downloads\\Sales_add.csv\")"
   ]
  },
  {
   "cell_type": "code",
   "execution_count": 3,
   "id": "5b648304",
   "metadata": {},
   "outputs": [
    {
     "data": {
      "text/html": [
       "<div>\n",
       "<style scoped>\n",
       "    .dataframe tbody tr th:only-of-type {\n",
       "        vertical-align: middle;\n",
       "    }\n",
       "\n",
       "    .dataframe tbody tr th {\n",
       "        vertical-align: top;\n",
       "    }\n",
       "\n",
       "    .dataframe thead th {\n",
       "        text-align: right;\n",
       "    }\n",
       "</style>\n",
       "<table border=\"1\" class=\"dataframe\">\n",
       "  <thead>\n",
       "    <tr style=\"text-align: right;\">\n",
       "      <th></th>\n",
       "      <th>Month</th>\n",
       "      <th>Region</th>\n",
       "      <th>Manager</th>\n",
       "      <th>Sales_before_digital_add(in $)</th>\n",
       "      <th>Sales_After_digital_add(in $)</th>\n",
       "    </tr>\n",
       "  </thead>\n",
       "  <tbody>\n",
       "    <tr>\n",
       "      <th>0</th>\n",
       "      <td>Month-1</td>\n",
       "      <td>Region - A</td>\n",
       "      <td>Manager - A</td>\n",
       "      <td>132921</td>\n",
       "      <td>270390</td>\n",
       "    </tr>\n",
       "    <tr>\n",
       "      <th>1</th>\n",
       "      <td>Month-2</td>\n",
       "      <td>Region - A</td>\n",
       "      <td>Manager - C</td>\n",
       "      <td>149559</td>\n",
       "      <td>223334</td>\n",
       "    </tr>\n",
       "    <tr>\n",
       "      <th>2</th>\n",
       "      <td>Month-3</td>\n",
       "      <td>Region - B</td>\n",
       "      <td>Manager - A</td>\n",
       "      <td>146278</td>\n",
       "      <td>244243</td>\n",
       "    </tr>\n",
       "    <tr>\n",
       "      <th>3</th>\n",
       "      <td>Month-4</td>\n",
       "      <td>Region - B</td>\n",
       "      <td>Manager - B</td>\n",
       "      <td>152167</td>\n",
       "      <td>231808</td>\n",
       "    </tr>\n",
       "    <tr>\n",
       "      <th>4</th>\n",
       "      <td>Month-5</td>\n",
       "      <td>Region - C</td>\n",
       "      <td>Manager - B</td>\n",
       "      <td>159525</td>\n",
       "      <td>258402</td>\n",
       "    </tr>\n",
       "  </tbody>\n",
       "</table>\n",
       "</div>"
      ],
      "text/plain": [
       "     Month      Region      Manager  Sales_before_digital_add(in $)  \\\n",
       "0  Month-1  Region - A  Manager - A                          132921   \n",
       "1  Month-2  Region - A  Manager - C                          149559   \n",
       "2  Month-3  Region - B  Manager - A                          146278   \n",
       "3  Month-4  Region - B  Manager - B                          152167   \n",
       "4  Month-5  Region - C  Manager - B                          159525   \n",
       "\n",
       "   Sales_After_digital_add(in $)  \n",
       "0                         270390  \n",
       "1                         223334  \n",
       "2                         244243  \n",
       "3                         231808  \n",
       "4                         258402  "
      ]
     },
     "execution_count": 3,
     "metadata": {},
     "output_type": "execute_result"
    }
   ],
   "source": [
    "data.head()"
   ]
  },
  {
   "cell_type": "code",
   "execution_count": 4,
   "id": "9984af9f",
   "metadata": {},
   "outputs": [
    {
     "data": {
      "text/plain": [
       "(22, 5)"
      ]
     },
     "execution_count": 4,
     "metadata": {},
     "output_type": "execute_result"
    }
   ],
   "source": [
    "data.shape"
   ]
  },
  {
   "cell_type": "markdown",
   "id": "5ff7e071",
   "metadata": {},
   "source": [
    "### The company wishes to clarify whether there is any increase in sales after stepping into digital marketing."
   ]
  },
  {
   "cell_type": "code",
   "execution_count": 5,
   "id": "c1611118",
   "metadata": {},
   "outputs": [],
   "source": [
    "# since there are only 22 samples we can use T-test to verify this hypothesis. Since we want to find if there is an increase in\n",
    "# sales before and after the implementation of digital ad we will be using ttest_rel, this is because the two samples are related.\n",
    "\n"
   ]
  },
  {
   "cell_type": "code",
   "execution_count": 6,
   "id": "1daf595c",
   "metadata": {},
   "outputs": [],
   "source": [
    "#The Null hypothesis will be that there is no change in sales after the implementation of digital ad"
   ]
  },
  {
   "cell_type": "code",
   "execution_count": 7,
   "id": "c1eba98d",
   "metadata": {},
   "outputs": [
    {
     "name": "stdout",
     "output_type": "stream",
     "text": [
      "-12.09070525287017\n",
      "6.336667004575778e-11\n"
     ]
    }
   ],
   "source": [
    "t_stat, p_value =ttest(data['Sales_before_digital_add(in $)'], data[The company needs to check whether there is any dependency between the features “Region” and “Manager”.])\n",
    "print(t_stat)\n",
    "print(p_value)"
   ]
  },
  {
   "cell_type": "code",
   "execution_count": 8,
   "id": "131144de",
   "metadata": {},
   "outputs": [],
   "source": [
    "# The significance level is selected to be 0.05"
   ]
  },
  {
   "cell_type": "code",
   "execution_count": 9,
   "id": "dca10224",
   "metadata": {},
   "outputs": [
    {
     "name": "stdout",
     "output_type": "stream",
     "text": [
      "The Null Hypothesis is rejected\n"
     ]
    }
   ],
   "source": [
    "if p_value < 0.05:\n",
    "    print('The Null Hypothesis is rejected')\n",
    "else:\n",
    "    print('The Null hypothesis is accepted')"
   ]
  },
  {
   "cell_type": "code",
   "execution_count": 11,
   "id": "fb61af9f",
   "metadata": {},
   "outputs": [],
   "source": [
    "# So we can say that digital ads has had an effect on the sales"
   ]
  },
  {
   "cell_type": "code",
   "execution_count": null,
   "id": "db5ccc11",
   "metadata": {},
   "outputs": [],
   "source": []
  },
  {
   "cell_type": "markdown",
   "id": "90b9b378",
   "metadata": {},
   "source": [
    "### The company needs to check whether there is any dependency between the features “Region” and “Manager”."
   ]
  },
  {
   "cell_type": "code",
   "execution_count": 12,
   "id": "f692904d",
   "metadata": {},
   "outputs": [],
   "source": [
    "# Here we will be employing the chi^2 test for independance to see whether there is any realtion between the manager and region\n",
    "#  on the sales."
   ]
  },
  {
   "cell_type": "code",
   "execution_count": 13,
   "id": "d9658333",
   "metadata": {},
   "outputs": [],
   "source": [
    "# Intially we will be rearranging the table so that we could evaluate the sales made by each manager and in each region.\n",
    "# we will be focussing on the sales after the implementation of digital ads."
   ]
  },
  {
   "cell_type": "code",
   "execution_count": 14,
   "id": "d6c3a6a7",
   "metadata": {},
   "outputs": [],
   "source": [
    "table = pd.pivot_table(data = data, index = 'Manager', columns = 'Region', values = 'Sales_After_digital_add(in $)',\n",
    "                      aggfunc = sum, fill_value= 0)"
   ]
  },
  {
   "cell_type": "code",
   "execution_count": 15,
   "id": "a2e49b67",
   "metadata": {
    "scrolled": true
   },
   "outputs": [
    {
     "data": {
      "text/html": [
       "<div>\n",
       "<style scoped>\n",
       "    .dataframe tbody tr th:only-of-type {\n",
       "        vertical-align: middle;\n",
       "    }\n",
       "\n",
       "    .dataframe tbody tr th {\n",
       "        vertical-align: top;\n",
       "    }\n",
       "\n",
       "    .dataframe thead th {\n",
       "        text-align: right;\n",
       "    }\n",
       "</style>\n",
       "<table border=\"1\" class=\"dataframe\">\n",
       "  <thead>\n",
       "    <tr style=\"text-align: right;\">\n",
       "      <th>Region</th>\n",
       "      <th>Region - A</th>\n",
       "      <th>Region - B</th>\n",
       "      <th>Region - C</th>\n",
       "    </tr>\n",
       "    <tr>\n",
       "      <th>Manager</th>\n",
       "      <th></th>\n",
       "      <th></th>\n",
       "      <th></th>\n",
       "    </tr>\n",
       "  </thead>\n",
       "  <tbody>\n",
       "    <tr>\n",
       "      <th>Manager - A</th>\n",
       "      <td>1030437</td>\n",
       "      <td>939851</td>\n",
       "      <td>229336</td>\n",
       "    </tr>\n",
       "    <tr>\n",
       "      <th>Manager - B</th>\n",
       "      <td>656832</td>\n",
       "      <td>231808</td>\n",
       "      <td>643654</td>\n",
       "    </tr>\n",
       "    <tr>\n",
       "      <th>Manager - C</th>\n",
       "      <td>701262</td>\n",
       "      <td>429436</td>\n",
       "      <td>222106</td>\n",
       "    </tr>\n",
       "  </tbody>\n",
       "</table>\n",
       "</div>"
      ],
      "text/plain": [
       "Region       Region - A  Region - B  Region - C\n",
       "Manager                                        \n",
       "Manager - A     1030437      939851      229336\n",
       "Manager - B      656832      231808      643654\n",
       "Manager - C      701262      429436      222106"
      ]
     },
     "execution_count": 15,
     "metadata": {},
     "output_type": "execute_result"
    }
   ],
   "source": [
    "table"
   ]
  },
  {
   "cell_type": "code",
   "execution_count": 23,
   "id": "3de4cad9",
   "metadata": {},
   "outputs": [],
   "source": [
    "chi2, p_value_chi, dof, expected = chi_2(table)"
   ]
  },
  {
   "cell_type": "code",
   "execution_count": 24,
   "id": "83e9b88c",
   "metadata": {},
   "outputs": [
    {
     "name": "stdout",
     "output_type": "stream",
     "text": [
      "We reject the Null Hypothesis\n"
     ]
    }
   ],
   "source": [
    "if p_value_chi < 0.05:\n",
    "    print('We reject the Null Hypothesis')\n",
    "else:\n",
    "    print('We accept the null hypothesis')"
   ]
  },
  {
   "cell_type": "code",
   "execution_count": 19,
   "id": "f0104c74",
   "metadata": {},
   "outputs": [],
   "source": [
    "# it is clear that sales is dependant on region and manager"
   ]
  },
  {
   "cell_type": "code",
   "execution_count": 20,
   "id": "eb41153d",
   "metadata": {},
   "outputs": [],
   "source": [
    "# lets employ the same procedure on sales before implementing digital add"
   ]
  },
  {
   "cell_type": "code",
   "execution_count": 21,
   "id": "104fd528",
   "metadata": {},
   "outputs": [],
   "source": [
    "table_2 = pd.pivot_table(data = data, index = 'Manager', columns = 'Region', values = 'Sales_before_digital_add(in $)',\n",
    "                      aggfunc = sum, fill_value= 0)"
   ]
  },
  {
   "cell_type": "code",
   "execution_count": 22,
   "id": "0b7028c0",
   "metadata": {},
   "outputs": [
    {
     "data": {
      "text/html": [
       "<div>\n",
       "<style scoped>\n",
       "    .dataframe tbody tr th:only-of-type {\n",
       "        vertical-align: middle;\n",
       "    }\n",
       "\n",
       "    .dataframe tbody tr th {\n",
       "        vertical-align: top;\n",
       "    }\n",
       "\n",
       "    .dataframe thead th {\n",
       "        text-align: right;\n",
       "    }\n",
       "</style>\n",
       "<table border=\"1\" class=\"dataframe\">\n",
       "  <thead>\n",
       "    <tr style=\"text-align: right;\">\n",
       "      <th>Region</th>\n",
       "      <th>Region - A</th>\n",
       "      <th>Region - B</th>\n",
       "      <th>Region - C</th>\n",
       "    </tr>\n",
       "    <tr>\n",
       "      <th>Manager</th>\n",
       "      <th></th>\n",
       "      <th></th>\n",
       "      <th></th>\n",
       "    </tr>\n",
       "  </thead>\n",
       "  <tbody>\n",
       "    <tr>\n",
       "      <th>Manager - A</th>\n",
       "      <td>594514</td>\n",
       "      <td>570900</td>\n",
       "      <td>147463</td>\n",
       "    </tr>\n",
       "    <tr>\n",
       "      <th>Manager - B</th>\n",
       "      <td>466851</td>\n",
       "      <td>152167</td>\n",
       "      <td>469477</td>\n",
       "    </tr>\n",
       "    <tr>\n",
       "      <th>Manager - C</th>\n",
       "      <td>420684</td>\n",
       "      <td>330598</td>\n",
       "      <td>130625</td>\n",
       "    </tr>\n",
       "  </tbody>\n",
       "</table>\n",
       "</div>"
      ],
      "text/plain": [
       "Region       Region - A  Region - B  Region - C\n",
       "Manager                                        \n",
       "Manager - A      594514      570900      147463\n",
       "Manager - B      466851      152167      469477\n",
       "Manager - C      420684      330598      130625"
      ]
     },
     "execution_count": 22,
     "metadata": {},
     "output_type": "execute_result"
    }
   ],
   "source": [
    "table_2"
   ]
  },
  {
   "cell_type": "code",
   "execution_count": 25,
   "id": "5b86f32e",
   "metadata": {},
   "outputs": [],
   "source": [
    "chi2_before, p_value_chi_before, dof_before, expected_before = chi_2(table_2)"
   ]
  },
  {
   "cell_type": "code",
   "execution_count": 26,
   "id": "c528be58",
   "metadata": {},
   "outputs": [
    {
     "name": "stdout",
     "output_type": "stream",
     "text": [
      "We reject the Null Hypothesis\n"
     ]
    }
   ],
   "source": [
    "if p_value_chi_before < 0.05:\n",
    "    print('We reject the Null Hypothesis')\n",
    "else:\n",
    "    print('We accept the null hypothesis')"
   ]
  },
  {
   "cell_type": "code",
   "execution_count": 27,
   "id": "5e514982",
   "metadata": {},
   "outputs": [],
   "source": [
    "# here also the dependance has been prooved"
   ]
  },
  {
   "cell_type": "code",
   "execution_count": null,
   "id": "b44288f9",
   "metadata": {},
   "outputs": [],
   "source": []
  }
 ],
 "metadata": {
  "kernelspec": {
   "display_name": "Python 3 (ipykernel)",
   "language": "python",
   "name": "python3"
  },
  "language_info": {
   "codemirror_mode": {
    "name": "ipython",
    "version": 3
   },
   "file_extension": ".py",
   "mimetype": "text/x-python",
   "name": "python",
   "nbconvert_exporter": "python",
   "pygments_lexer": "ipython3",
   "version": "3.9.13"
  }
 },
 "nbformat": 4,
 "nbformat_minor": 5
}
